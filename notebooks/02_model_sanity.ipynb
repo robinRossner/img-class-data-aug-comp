{
 "cells": [
  {
   "cell_type": "code",
   "execution_count": null,
   "id": "cb7b2109",
   "metadata": {},
   "outputs": [
    {
     "name": "stdout",
     "output_type": "stream",
     "text": [
      "torch.Size([2, 10])\n"
     ]
    }
   ],
   "source": [
    "import sys, os\n",
    "module_path = os.path.abspath(os.path.join('..'))\n",
    "if module_path not in sys.path:\n",
    "    sys.path.append(module_path)\n",
    "\n",
    "import torch\n",
    "from src.model import ConvBlock\n",
    "\n",
    "m = ConvBlock(in_channels=3, out_channels=16, kernel_size=3, stride=1, padding=1, num_classes=10)\n",
    "x = torch.randn(2,3,224,224)\n",
    "with torch.no_grad():\n",
    "    y = m(x)\n",
    "print(y.shape)"
   ]
  }
 ],
 "metadata": {
  "kernelspec": {
   "display_name": ".venvImgClass (3.12.3)",
   "language": "python",
   "name": "python3"
  },
  "language_info": {
   "codemirror_mode": {
    "name": "ipython",
    "version": 3
   },
   "file_extension": ".py",
   "mimetype": "text/x-python",
   "name": "python",
   "nbconvert_exporter": "python",
   "pygments_lexer": "ipython3",
   "version": "3.12.3"
  }
 },
 "nbformat": 4,
 "nbformat_minor": 5
}
