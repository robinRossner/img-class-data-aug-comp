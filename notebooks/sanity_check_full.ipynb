{
 "cells": [
  {
   "cell_type": "markdown",
   "id": "962bb170",
   "metadata": {},
   "source": [
    "# Import Model and Data in loaders"
   ]
  },
  {
   "cell_type": "code",
   "execution_count": 1,
   "id": "fea6213b",
   "metadata": {},
   "outputs": [
    {
     "name": "stdout",
     "output_type": "stream",
     "text": [
      "Saved 17380 samples to experiments/splits/train_split.csv\n",
      "Saved 2165 samples to experiments/splits/val_split.csv\n",
      "Saved 2165 samples to experiments/splits/test_split.csv\n",
      "Discovered 21710 samples in 10 classes.\n",
      "Train/val/test split: 17380/2165/2165\n"
     ]
    }
   ],
   "source": [
    "import os\n",
    "from pathlib import Path\n",
    "p = Path.cwd().resolve()\n",
    "while p != p.parent and not (p / 'requirements.txt').exists() and not (p / 'data').exists():\n",
    "    p = p.parent\n",
    "# now p is repo root candidate\n",
    "os.chdir(str(p/\"src\"))\n",
    "\n",
    "from model import SmallCNN\n",
    "from data import build_dataloaders\n",
    "\n",
    "model = SmallCNN()\n",
    "\n",
    "train_loader, val_loader, test_loader, meta = build_dataloaders(data_root=os.path.join(p, 'data'), size=128, batch_size=64)\n",
    "model_out = os.path.join(p, 'experiments')"
   ]
  },
  {
   "cell_type": "markdown",
   "id": "8ce5d207",
   "metadata": {},
   "source": [
    "# TRAIN THE MODEL"
   ]
  },
  {
   "cell_type": "code",
   "execution_count": null,
   "id": "43f2b9a6",
   "metadata": {},
   "outputs": [],
   "source": [
    "from train import train_x_epoch\n",
    "import torch\n",
    "\n",
    "criterion = torch.nn.CrossEntropyLoss()\n",
    "optimizer = torch.optim.Adam(model.parameters(), lr=0.001)\n",
    "scheduler = None\n",
    "\n",
    "val_losses, val_accuracies, train_losses = train_x_epoch(\n",
    "    model, train_loader, criterion=criterion, optimizer=optimizer, x=5, scheduler=scheduler, val_loader=val_loader, seed=67)"
   ]
  },
  {
   "cell_type": "markdown",
   "id": "7124169a",
   "metadata": {},
   "source": [
    "# Plotting Loss and Accuracies"
   ]
  },
  {
   "cell_type": "code",
   "execution_count": 9,
   "id": "412a481b",
   "metadata": {},
   "outputs": [
    {
     "ename": "NameError",
     "evalue": "name 'val_losses' is not defined",
     "output_type": "error",
     "traceback": [
      "\u001b[31m---------------------------------------------------------------------------\u001b[39m",
      "\u001b[31mNameError\u001b[39m                                 Traceback (most recent call last)",
      "\u001b[36mCell\u001b[39m\u001b[36m \u001b[39m\u001b[32mIn[9]\u001b[39m\u001b[32m, line 4\u001b[39m\n\u001b[32m      1\u001b[39m \u001b[38;5;28;01mfrom\u001b[39;00m\u001b[38;5;250m \u001b[39m\u001b[34;01mutils\u001b[39;00m\u001b[38;5;250m \u001b[39m\u001b[38;5;28;01mimport\u001b[39;00m plot\n\u001b[32m      2\u001b[39m \u001b[38;5;28;01mfrom\u001b[39;00m\u001b[38;5;250m \u001b[39m\u001b[34;01meval\u001b[39;00m\u001b[38;5;250m \u001b[39m\u001b[38;5;28;01mimport\u001b[39;00m evaluateClassAccurracy\n\u001b[32m----> \u001b[39m\u001b[32m4\u001b[39m plot(\u001b[43mval_losses\u001b[49m, val_accuracies, train_losses)\n\u001b[32m      6\u001b[39m \u001b[38;5;28mprint\u001b[39m(\u001b[33m\"\u001b[39m\u001b[33mFinal Evaluation on Validation Set:\u001b[39m\u001b[33m\"\u001b[39m)\n\u001b[32m      7\u001b[39m evaluateClassAccurracy(model, val_loader, criterion, \u001b[32m10\u001b[39m)\n",
      "\u001b[31mNameError\u001b[39m: name 'val_losses' is not defined"
     ]
    }
   ],
   "source": [
    "from utils import plot\n",
    "from eval import evaluateClassAccurracy\n",
    "\n",
    "plot(val_losses, val_accuracies, train_losses)\n",
    "\n",
    "print(\"Final Evaluation on Validation Set:\")\n",
    "evaluateClassAccurracy(model, val_loader, criterion, 10)"
   ]
  }
 ],
 "metadata": {
  "kernelspec": {
   "display_name": ".venvImgClass (3.12.3)",
   "language": "python",
   "name": "python3"
  },
  "language_info": {
   "codemirror_mode": {
    "name": "ipython",
    "version": 3
   },
   "file_extension": ".py",
   "mimetype": "text/x-python",
   "name": "python",
   "nbconvert_exporter": "python",
   "pygments_lexer": "ipython3",
   "version": "3.12.3"
  }
 },
 "nbformat": 4,
 "nbformat_minor": 5
}
